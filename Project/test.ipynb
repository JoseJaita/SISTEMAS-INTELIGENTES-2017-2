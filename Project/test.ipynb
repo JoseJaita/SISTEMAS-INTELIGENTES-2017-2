{
 "cells": [
  {
   "cell_type": "code",
   "execution_count": 1,
   "metadata": {
    "collapsed": true
   },
   "outputs": [],
   "source": [
    "import numpy as np\n",
    "import tensorflow as tf\n",
    "import codecs\n",
    "import unidecode\n",
    "import re\n",
    "\n",
    "from random import shuffle\n",
    "from nltk.corpus import stopwords\n",
    "from googletrans import Translator"
   ]
  },
  {
   "cell_type": "code",
   "execution_count": 2,
   "metadata": {
    "collapsed": true
   },
   "outputs": [],
   "source": [
    "translator = Translator()"
   ]
  },
  {
   "cell_type": "code",
   "execution_count": 3,
   "metadata": {
    "collapsed": true
   },
   "outputs": [],
   "source": [
    "NUM_FEATURES = 50\n",
    "SEQ_LEN = 250\n",
    "CELL_SIZE = 128\n",
    "BATCH_SIZE = 32\n",
    "NUM_CLASESS = 3  \n",
    "\n",
    "HIDDEN_LAYER_SIZE = 32"
   ]
  },
  {
   "cell_type": "code",
   "execution_count": 4,
   "metadata": {},
   "outputs": [
    {
     "name": "stdout",
     "output_type": "stream",
     "text": [
      "cargar el diccionario!\n",
      "cargar word vectors!\n",
      "400000\n",
      "(400000, 50)\n"
     ]
    }
   ],
   "source": [
    "wordsList = np.load('wordsList.npy')\n",
    "print('cargar el diccionario!')\n",
    "wordsList = wordsList.tolist() #Originally loaded as numpy array\n",
    "wordsList = [word.decode('UTF-8') for word in wordsList] #Encode words as UTF-8\n",
    "wordVectors = np.load('wordVectors.npy')\n",
    "print ('cargar word vectors!')\n",
    "print(len(wordsList))\n",
    "print(wordVectors.shape)"
   ]
  },
  {
   "cell_type": "code",
   "execution_count": 5,
   "metadata": {
    "collapsed": true
   },
   "outputs": [],
   "source": [
    "sess = tf.Session()\n",
    "tf.reset_default_graph()\n",
    "\n",
    "labels = tf.placeholder(dtype = tf.float32, shape = [None, NUM_CLASESS]) # batch x classes \n",
    "input_data = tf.placeholder(dtype = tf.int32, shape = [None, SEQ_LEN]) # batch  x seq_len \n",
    "\n",
    "hin_f = tf.placeholder(dtype = tf.float32, shape = [None, CELL_SIZE]) # batch x cell\n",
    "hin_b = tf.placeholder(dtype = tf.float32, shape = [None, CELL_SIZE]) # batch x cell"
   ]
  },
  {
   "cell_type": "code",
   "execution_count": 6,
   "metadata": {
    "collapsed": true
   },
   "outputs": [],
   "source": [
    "def my_attention(inputs, hidden_layer_size):\n",
    "    X = tf.reshape(inputs, [-1, 2 * CELL_SIZE])\n",
    "    Y = tf.layers.dense(X, hidden_layer_size, activation=tf.nn.relu)\n",
    "    logits = tf.layers.dense(Y, 1, activation= None)\n",
    "    logits = tf.reshape(logits, [-1, SEQ_LEN, 1])\n",
    "    alphas = tf.nn.softmax(logits, dim=1)\n",
    "    encoded_sentence = tf.reduce_sum(inputs * alphas, axis=1)\n",
    "    \n",
    "    return encoded_sentence, alphas"
   ]
  },
  {
   "cell_type": "code",
   "execution_count": 7,
   "metadata": {},
   "outputs": [
    {
     "name": "stdout",
     "output_type": "stream",
     "text": [
      "WARNING:tensorflow:From <ipython-input-6-f2c311cc1a15>:6: calling softmax (from tensorflow.python.ops.nn_ops) with dim is deprecated and will be removed in a future version.\n",
      "Instructions for updating:\n",
      "dim is deprecated, use axis instead\n",
      "WARNING:tensorflow:From <ipython-input-7-100e3a7749c8>:30: softmax_cross_entropy_with_logits (from tensorflow.python.ops.nn_ops) is deprecated and will be removed in a future version.\n",
      "Instructions for updating:\n",
      "\n",
      "Future major versions of TensorFlow will allow gradients to flow\n",
      "into the labels input on backprop by default.\n",
      "\n",
      "See tf.nn.softmax_cross_entropy_with_logits_v2.\n",
      "\n"
     ]
    }
   ],
   "source": [
    "#data = tf.Variable(tf.zeros([None, SEQ_LEN, NUM_FEATURES]),dtype=tf.float32)\n",
    "data = tf.nn.embedding_lookup(wordVectors,input_data)\n",
    "\n",
    "# creamos bidirectional gru\n",
    "# layer 0\n",
    "rnn_fw_cell_0 = tf.contrib.rnn.GRUCell(CELL_SIZE)\n",
    "rnn_bw_cell_0 = tf.contrib.rnn.GRUCell(CELL_SIZE)\n",
    "# layer 1\n",
    "rnn_fw_cell_1 = tf.contrib.rnn.GRUCell(CELL_SIZE)\n",
    "rnn_bw_cell_1 = tf.contrib.rnn.GRUCell(CELL_SIZE)\n",
    "\n",
    "list_rnn_fw = [rnn_fw_cell_0, rnn_fw_cell_1]\n",
    "list_rnn_bw = [rnn_bw_cell_0, rnn_bw_cell_1]\n",
    "\n",
    "#outputs, _  = tf.nn.bidirectional_dynamic_rnn(cell_bw=rnn_bw_cell,cell_fw=rnn_fw_cell,inputs = data,dtype = tf.float32)\n",
    "                                                #initial_state_bw=hin_b, initial_state_fw=hin_b)\n",
    "outputs,_,_ = tf.contrib.rnn.stack_bidirectional_dynamic_rnn(cells_bw = list_rnn_fw, cells_fw = list_rnn_bw,\n",
    "                                                             inputs = data, dtype=tf.float32)\n",
    "\n",
    "#outputs = tf.concat(outputs, axis=2)\n",
    "\n",
    "encoded, alphas = my_attention(outputs, HIDDEN_LAYER_SIZE)\n",
    "\n",
    "logits = tf.layers.dense(encoded, 3, activation=None)\n",
    "prediction = tf.argmax(logits, 1)\n",
    "\n",
    "true_false = tf.equal(prediction, tf.argmax(labels,1))\n",
    "accuracy = tf.reduce_mean(tf.cast(true_false, tf.float32))\n",
    "\n",
    "loss = tf.reduce_mean(tf.nn.softmax_cross_entropy_with_logits(labels=labels, logits=logits))\n",
    "#loss = tf.losses.softmax_cross_entropy(onehot_labels=labels, logits=logits)\n",
    "optimizer = tf.train.AdamOptimizer().minimize(loss)"
   ]
  },
  {
   "cell_type": "code",
   "execution_count": 8,
   "metadata": {},
   "outputs": [
    {
     "name": "stdout",
     "output_type": "stream",
     "text": [
      "INFO:tensorflow:Restoring parameters from models2/model_GRU_Attention.ckpt-20000\n"
     ]
    }
   ],
   "source": [
    "# cargamos un modelo ya pre-entrenado\n",
    "sess = tf.InteractiveSession()\n",
    "saver = tf.train.Saver()\n",
    "saver.restore(sess, tf.train.latest_checkpoint('models2/'))"
   ]
  },
  {
   "cell_type": "code",
   "execution_count": 9,
   "metadata": {
    "collapsed": true
   },
   "outputs": [],
   "source": [
    "def filter_text(text):\n",
    "    text = re.sub('<[^>]*>', '', text)\n",
    "    emoticons = re.findall('(?::|;|=)(?:-)?(?:\\)|\\(|D|P)', text.lower())\n",
    "    text = re.sub('[\\W]+', ' ', text.lower()) + ' '.join(emoticons).replace('-', '')\n",
    "    return text"
   ]
  },
  {
   "cell_type": "code",
   "execution_count": 10,
   "metadata": {
    "collapsed": true
   },
   "outputs": [],
   "source": [
    "# reviews es una lista de reviews y polarities una lista de int\n",
    "def get_format_data(reviews, polarities):\n",
    "    arr = np.zeros((len(polarities), SEQ_LEN),dtype='uint32')\n",
    "    arr_labels = []\n",
    "    for r,review in enumerate(reviews):\n",
    "        review = filter_text(unidecode.unidecode(review))\n",
    "        review = review.split()\n",
    "        for w, word in enumerate(review):\n",
    "            if w >= SEQ_LEN: break\n",
    "            try:\n",
    "                arr[r][w] = wordsList.index(word)\n",
    "            except ValueError:\n",
    "                arr[r][w] = 399999\n",
    "    for l in polarities:\n",
    "        if l == 0: arr_labels.append([1,0,0])\n",
    "        if l == 1: arr_labels.append([0,1,0])\n",
    "        if l == 2: arr_labels.append([0,0,1])\n",
    "    return arr, arr_labels"
   ]
  },
  {
   "cell_type": "code",
   "execution_count": 10,
   "metadata": {},
   "outputs": [
    {
     "name": "stdout",
     "output_type": "stream",
     "text": [
      "1899\n"
     ]
    }
   ],
   "source": [
    "filename1 = 'test/intertass-test-2017.csv'\n",
    "text1 = codecs.open(filename1, encoding='utf-8')\n",
    "next(text1)\n",
    "\n",
    "sentences1 = []\n",
    "polarity1 = []\n",
    "\n",
    "i = 0\n",
    "for line in text1:\n",
    "    lista = line.split(',') # asumimos que el review no contiene comas \n",
    "    w = str(lista[1]).split('\\n')[0]\n",
    "    if w == 'NONE' or w == 'NEU': polarity1.append(2) # neutro\n",
    "    if w == 'P': polarity1.append(1) # positive\n",
    "    if w == 'N': polarity1.append(0)   # negative\n",
    "    sentence = lista[0]\n",
    "    #sentence = filter_text(unidecode.unidecode(sentence))\n",
    "    sentences1.append(sentence)\n",
    "    i += 1\n",
    "print i\n",
    "\n",
    "NUM_EJEM_1 = len(sentences1)"
   ]
  },
  {
   "cell_type": "code",
   "execution_count": 11,
   "metadata": {
    "collapsed": true
   },
   "outputs": [],
   "source": [
    "a, b = get_format_data(sentences1, polarity1)"
   ]
  },
  {
   "cell_type": "code",
   "execution_count": 14,
   "metadata": {},
   "outputs": [
    {
     "name": "stdout",
     "output_type": "stream",
     "text": [
      "57.8199028968811\n"
     ]
    }
   ],
   "source": [
    "p = sess.run(accuracy, {input_data: a, labels: b})\n",
    "print (p*100)\n",
    "del a\n",
    "del b"
   ]
  },
  {
   "cell_type": "code",
   "execution_count": 10,
   "metadata": {
    "collapsed": true
   },
   "outputs": [],
   "source": [
    "# read the tass con indexs"
   ]
  },
  {
   "cell_type": "code",
   "execution_count": 11,
   "metadata": {
    "collapsed": true
   },
   "outputs": [],
   "source": [
    "a = np.load('idsMatrix_2.npy')\n",
    "b = np.load('labels_2.npy')\n",
    "b = b.tolist()\n",
    "\n",
    "bb = []\n",
    "for l in b:\n",
    "    if l == 0: bb.append([1,0,0])\n",
    "    if l == 1: bb.append([0,1,0])\n",
    "    if l == 2: bb.append([0,0,1])"
   ]
  },
  {
   "cell_type": "code",
   "execution_count": 12,
   "metadata": {},
   "outputs": [
    {
     "name": "stdout",
     "output_type": "stream",
     "text": [
      "63.7704074382782\n"
     ]
    }
   ],
   "source": [
    "p = sess.run(accuracy, {input_data: a, labels: bb})\n",
    "print (p*100)"
   ]
  },
  {
   "cell_type": "code",
   "execution_count": null,
   "metadata": {
    "collapsed": true
   },
   "outputs": [],
   "source": []
  },
  {
   "cell_type": "code",
   "execution_count": null,
   "metadata": {
    "collapsed": true
   },
   "outputs": [],
   "source": []
  },
  {
   "cell_type": "code",
   "execution_count": null,
   "metadata": {
    "collapsed": true
   },
   "outputs": [],
   "source": []
  },
  {
   "cell_type": "code",
   "execution_count": null,
   "metadata": {
    "collapsed": true
   },
   "outputs": [],
   "source": []
  },
  {
   "cell_type": "code",
   "execution_count": null,
   "metadata": {
    "collapsed": true
   },
   "outputs": [],
   "source": []
  },
  {
   "cell_type": "code",
   "execution_count": null,
   "metadata": {
    "collapsed": true
   },
   "outputs": [],
   "source": []
  },
  {
   "cell_type": "code",
   "execution_count": null,
   "metadata": {
    "collapsed": true
   },
   "outputs": [],
   "source": []
  },
  {
   "cell_type": "code",
   "execution_count": 43,
   "metadata": {
    "collapsed": true
   },
   "outputs": [],
   "source": [
    "proof = ['Esta pelicula no me gusto nada', 'me gusta jugar futbol, aunque pierda']\n",
    "t_sentences_es = translator.translate(proof, dest='en')\n",
    "proof_en = [t.text for t in t_sentences_es]\n",
    "\n",
    "proof = np.array(proof)\n",
    "proof_b = [0,1]\n",
    "\n",
    "a , b = get_format_data(proof_en, proof_b)"
   ]
  },
  {
   "cell_type": "code",
   "execution_count": 44,
   "metadata": {
    "collapsed": true
   },
   "outputs": [],
   "source": [
    "p = sess.run(prediction, {input_data: a})"
   ]
  },
  {
   "cell_type": "code",
   "execution_count": 45,
   "metadata": {},
   "outputs": [
    {
     "data": {
      "text/plain": [
       "array([0, 2])"
      ]
     },
     "execution_count": 45,
     "metadata": {},
     "output_type": "execute_result"
    }
   ],
   "source": [
    "p"
   ]
  },
  {
   "cell_type": "code",
   "execution_count": null,
   "metadata": {
    "collapsed": true
   },
   "outputs": [],
   "source": []
  }
 ],
 "metadata": {
  "kernelspec": {
   "display_name": "Python 2",
   "language": "python",
   "name": "python2"
  },
  "language_info": {
   "codemirror_mode": {
    "name": "ipython",
    "version": 2
   },
   "file_extension": ".py",
   "mimetype": "text/x-python",
   "name": "python",
   "nbconvert_exporter": "python",
   "pygments_lexer": "ipython2",
   "version": "2.7.12"
  }
 },
 "nbformat": 4,
 "nbformat_minor": 2
}
