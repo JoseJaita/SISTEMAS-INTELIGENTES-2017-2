{
 "cells": [
  {
   "cell_type": "code",
   "execution_count": 1,
   "metadata": {
    "collapsed": true
   },
   "outputs": [],
   "source": [
    "import numpy as np\n",
    "import tensorflow as tf\n",
    "import codecs\n",
    "import unidecode\n",
    "import re\n",
    "\n",
    "from random import shuffle\n",
    "from nltk.corpus import stopwords"
   ]
  },
  {
   "cell_type": "code",
   "execution_count": null,
   "metadata": {
    "collapsed": true
   },
   "outputs": [],
   "source": []
  },
  {
   "cell_type": "code",
   "execution_count": 2,
   "metadata": {},
   "outputs": [
    {
     "name": "stdout",
     "output_type": "stream",
     "text": [
      "185101\n"
     ]
    }
   ],
   "source": [
    "TRAIN_SIZE = 102582 + 49000 + 32519 #+ 1899\n",
    "TEST_SIZE = 1000\n",
    "\n",
    "NUM_FEATURES = 50\n",
    "SEQ_LEN = 250\n",
    "CELL_SIZE = 128\n",
    "BATCH_SIZE = 64\n",
    "NUM_CLASESS = 3  # negative positive neutral\n",
    "\n",
    "HIDDEN_LAYER_SIZE = 32\n",
    "\n",
    "print(TRAIN_SIZE+TEST_SIZE)"
   ]
  },
  {
   "cell_type": "code",
   "execution_count": 3,
   "metadata": {},
   "outputs": [
    {
     "name": "stdout",
     "output_type": "stream",
     "text": [
      "cargar el diccionario!\n",
      "cargar word vectors!\n",
      "400000\n",
      "(400000, 50)\n"
     ]
    }
   ],
   "source": [
    "wordsList = np.load('wordsList.npy')\n",
    "print('cargar el diccionario!')\n",
    "wordsList = wordsList.tolist() #Originally loaded as numpy array\n",
    "wordsList = [word.decode('UTF-8') for word in wordsList] #Encode words as UTF-8\n",
    "wordVectors = np.load('wordVectors.npy')\n",
    "print ('cargar word vectors!')\n",
    "print(len(wordsList))\n",
    "print(wordVectors.shape)"
   ]
  },
  {
   "cell_type": "code",
   "execution_count": 4,
   "metadata": {},
   "outputs": [
    {
     "name": "stdout",
     "output_type": "stream",
     "text": [
      "(185101, 250)\n",
      "(185101,)\n"
     ]
    }
   ],
   "source": [
    "# cargar los reviews and labels\n",
    "ids = np.load('idsMatrix.npy')\n",
    "labels_d = np.load('labels.npy')\n",
    "\n",
    "ids = np.concatenate((ids, np.load('idsMatrix_3_7.npy')), axis = 0)\n",
    "labels_d = np.concatenate((labels_d, np.load('labels_3_7.npy')), axis=0)\n",
    "\n",
    "print(ids.shape)\n",
    "print(labels_d.shape)"
   ]
  },
  {
   "cell_type": "code",
   "execution_count": 5,
   "metadata": {
    "collapsed": true
   },
   "outputs": [],
   "source": [
    "# shuffle trainning examples\n",
    "num_examples = labels_d.shape[0]\n",
    "indexs = [i for i in range(num_examples)]\n",
    "shuffle(indexs)\n",
    "ids = ids[indexs]\n",
    "labels_d = labels_d[indexs]"
   ]
  },
  {
   "cell_type": "code",
   "execution_count": 6,
   "metadata": {
    "collapsed": true
   },
   "outputs": [],
   "source": [
    "#ids[:,0:SEQ_LEN].shape\n",
    "#ids = ids[:,0:SEQ_LEN]"
   ]
  },
  {
   "cell_type": "code",
   "execution_count": 7,
   "metadata": {
    "collapsed": true
   },
   "outputs": [],
   "source": [
    "index_t = 0\n",
    "def getTrainBatch():\n",
    "    global index_t\n",
    "    if index_t >= TRAIN_SIZE: index_t = 0\n",
    "    labels_ = []\n",
    "    arr = np.zeros([BATCH_SIZE, SEQ_LEN])\n",
    "    for i in range(BATCH_SIZE):\n",
    "        if labels_d[index_t+i] == 0: \n",
    "            labels_.append([1,0,0])\n",
    "        if labels_d[index_t+i] == 1:\n",
    "            labels_.append([0,1,0])\n",
    "        if labels_d[index_t+i] == 2:\n",
    "            labels_.append([0,0,1])\n",
    "    arr = ids[index_t : index_t + BATCH_SIZE]\n",
    "    index_t += BATCH_SIZE\n",
    "    #print index_t\n",
    "    return arr, labels_\n",
    "\n",
    "# DATA es de 152000, nuestro test son los ultimos 5000 reviews\n",
    "def getTestBatch(n):\n",
    "    labels_ = []\n",
    "    arr = np.zeros([n, SEQ_LEN])\n",
    "    for i in range(n):\n",
    "        if labels_d[i+TRAIN_SIZE] == 0:\n",
    "            labels_.append([1,0,0]) # negative\n",
    "        if labels_d[i+TRAIN_SIZE] == 1:\n",
    "            labels_.append([0,1,0]) # positive\n",
    "        if labels_d[i+TRAIN_SIZE] == 2:\n",
    "            labels_.append([0,0,1]) #neutral\n",
    "    arr = ids[TRAIN_SIZE:TRAIN_SIZE + n]\n",
    "    return arr, labels_"
   ]
  },
  {
   "cell_type": "code",
   "execution_count": 8,
   "metadata": {
    "collapsed": true
   },
   "outputs": [],
   "source": [
    "sess = tf.Session()\n",
    "tf.reset_default_graph()\n",
    "\n",
    "labels = tf.placeholder(dtype = tf.float32, shape = [None, NUM_CLASESS]) # batch x classes \n",
    "input_data = tf.placeholder(dtype = tf.int32, shape = [None, SEQ_LEN]) # batch  x seq_len \n",
    "\n",
    "hin_f = tf.placeholder(dtype = tf.float32, shape = [None, CELL_SIZE]) # batch x cell\n",
    "hin_b = tf.placeholder(dtype = tf.float32, shape = [None, CELL_SIZE]) # batch x cell\n"
   ]
  },
  {
   "cell_type": "code",
   "execution_count": 9,
   "metadata": {
    "collapsed": true
   },
   "outputs": [],
   "source": [
    "def my_attention(inputs, hidden_layer_size):\n",
    "    X = tf.reshape(inputs, [-1, 2 * CELL_SIZE])\n",
    "    Y = tf.layers.dense(X, hidden_layer_size, activation=tf.nn.relu)\n",
    "    logits = tf.layers.dense(Y, 1, activation= None)\n",
    "    logits = tf.reshape(logits, [-1, SEQ_LEN, 1])\n",
    "    alphas = tf.nn.softmax(logits, dim=1)\n",
    "    encoded_sentence = tf.reduce_sum(inputs * alphas, axis=1)\n",
    "    \n",
    "    return encoded_sentence, alphas"
   ]
  },
  {
   "cell_type": "code",
   "execution_count": 10,
   "metadata": {},
   "outputs": [
    {
     "name": "stdout",
     "output_type": "stream",
     "text": [
      "WARNING:tensorflow:From <ipython-input-9-f2c311cc1a15>:6: calling softmax (from tensorflow.python.ops.nn_ops) with dim is deprecated and will be removed in a future version.\n",
      "Instructions for updating:\n",
      "dim is deprecated, use axis instead\n",
      "WARNING:tensorflow:From <ipython-input-10-100e3a7749c8>:30: softmax_cross_entropy_with_logits (from tensorflow.python.ops.nn_ops) is deprecated and will be removed in a future version.\n",
      "Instructions for updating:\n",
      "\n",
      "Future major versions of TensorFlow will allow gradients to flow\n",
      "into the labels input on backprop by default.\n",
      "\n",
      "See tf.nn.softmax_cross_entropy_with_logits_v2.\n",
      "\n"
     ]
    }
   ],
   "source": [
    "#data = tf.Variable(tf.zeros([None, SEQ_LEN, NUM_FEATURES]),dtype=tf.float32)\n",
    "data = tf.nn.embedding_lookup(wordVectors,input_data)\n",
    "\n",
    "# creamos bidirectional gru\n",
    "# layer 0\n",
    "rnn_fw_cell_0 = tf.contrib.rnn.GRUCell(CELL_SIZE)\n",
    "rnn_bw_cell_0 = tf.contrib.rnn.GRUCell(CELL_SIZE)\n",
    "# layer 1\n",
    "rnn_fw_cell_1 = tf.contrib.rnn.GRUCell(CELL_SIZE)\n",
    "rnn_bw_cell_1 = tf.contrib.rnn.GRUCell(CELL_SIZE)\n",
    "\n",
    "list_rnn_fw = [rnn_fw_cell_0, rnn_fw_cell_1]\n",
    "list_rnn_bw = [rnn_bw_cell_0, rnn_bw_cell_1]\n",
    "\n",
    "#outputs, _  = tf.nn.bidirectional_dynamic_rnn(cell_bw=rnn_bw_cell,cell_fw=rnn_fw_cell,inputs = data,dtype = tf.float32)\n",
    "                                                #initial_state_bw=hin_b, initial_state_fw=hin_b)\n",
    "outputs,_,_ = tf.contrib.rnn.stack_bidirectional_dynamic_rnn(cells_bw = list_rnn_fw, cells_fw = list_rnn_bw,\n",
    "                                                             inputs = data, dtype=tf.float32)\n",
    "\n",
    "#outputs = tf.concat(outputs, axis=2)\n",
    "\n",
    "encoded, alphas = my_attention(outputs, HIDDEN_LAYER_SIZE)\n",
    "\n",
    "logits = tf.layers.dense(encoded, 3, activation=None)\n",
    "prediction = tf.argmax(logits, 1)\n",
    "\n",
    "true_false = tf.equal(prediction, tf.argmax(labels,1))\n",
    "accuracy = tf.reduce_mean(tf.cast(true_false, tf.float32))\n",
    "\n",
    "loss = tf.reduce_mean(tf.nn.softmax_cross_entropy_with_logits(labels=labels, logits=logits))\n",
    "#loss = tf.losses.softmax_cross_entropy(onehot_labels=labels, logits=logits)\n",
    "optimizer = tf.train.AdamOptimizer().minimize(loss)"
   ]
  },
  {
   "cell_type": "code",
   "execution_count": 11,
   "metadata": {
    "collapsed": true
   },
   "outputs": [],
   "source": [
    "################################################ test###############################################"
   ]
  },
  {
   "cell_type": "code",
   "execution_count": 12,
   "metadata": {},
   "outputs": [
    {
     "name": "stdout",
     "output_type": "stream",
     "text": [
      "1899\n"
     ]
    }
   ],
   "source": [
    "def filter_text(text):\n",
    "    text = re.sub('<[^>]*>', '', text)\n",
    "    emoticons = re.findall('(?::|;|=)(?:-)?(?:\\)|\\(|D|P)', text.lower())\n",
    "    text = re.sub('[\\W]+', ' ', text.lower()) + ' '.join(emoticons).replace('-', '')\n",
    "    return text\n",
    "\n",
    "# reviews es una lista de reviews y polarities una lista de int\n",
    "def get_format_data(reviews, polarities):\n",
    "    arr = np.zeros((len(polarities), SEQ_LEN),dtype='uint32')\n",
    "    arr_labels = []\n",
    "    for r,review in enumerate(reviews):\n",
    "        review = filter_text(unidecode.unidecode(review))\n",
    "        review = review.split()\n",
    "        for w, word in enumerate(review):\n",
    "            if w >= SEQ_LEN: break\n",
    "            try:\n",
    "                arr[r][w] = wordsList.index(word)\n",
    "            except ValueError:\n",
    "                arr[r][w] = 399999\n",
    "    for l in polarities:\n",
    "        if l == 0: arr_labels.append([1,0,0])\n",
    "        if l == 1: arr_labels.append([0,1,0])\n",
    "        if l == 2: arr_labels.append([0,0,1])\n",
    "    return arr, arr_labels\n",
    "filename1 = 'test/intertass-test-2017.csv'\n",
    "text1 = codecs.open(filename1, encoding='utf-8')\n",
    "next(text1)\n",
    "\n",
    "sentences1 = []\n",
    "polarity1 = []\n",
    "\n",
    "i = 0\n",
    "for line in text1:\n",
    "    lista = line.split(',') # asumimos que el review no contiene comas \n",
    "    w = str(lista[1]).split('\\n')[0]\n",
    "    if w == 'NONE' or w == 'NEU': polarity1.append(2) # neutro\n",
    "    if w == 'P': polarity1.append(1) # positive\n",
    "    if w == 'N': polarity1.append(0)   # negative\n",
    "    sentence = lista[0]\n",
    "    #sentence = filter_text(unidecode.unidecode(sentence))\n",
    "    sentences1.append(sentence)\n",
    "    i += 1\n",
    "print i\n",
    "\n",
    "NUM_EJEM_1 = len(sentences1)\n",
    "at, bt = get_format_data(sentences1, polarity1)"
   ]
  },
  {
   "cell_type": "code",
   "execution_count": 13,
   "metadata": {
    "collapsed": true
   },
   "outputs": [],
   "source": [
    "####################################################################################################"
   ]
  },
  {
   "cell_type": "code",
   "execution_count": null,
   "metadata": {
    "collapsed": true
   },
   "outputs": [],
   "source": [
    "import datetime\n",
    "\n",
    "tf.summary.scalar('Loss', loss)\n",
    "tf.summary.scalar('Accuracy_Train', accuracy)\n",
    "merged = tf.summary.merge_all()\n",
    "validation_summ = tf.summary.scalar('Accuracy_Test', accuracy)\n",
    "logdir = \"tensorboard/\" + datetime.datetime.now().strftime(\"%Y%m%d-%H%M%S\") + \"/\"\n",
    "#writer = tf.summary.FileWriter(logdir, sess.graph)"
   ]
  },
  {
   "cell_type": "code",
   "execution_count": 1,
   "metadata": {},
   "outputs": [
    {
     "ename": "NameError",
     "evalue": "name 'tf' is not defined",
     "output_type": "error",
     "traceback": [
      "\u001b[0;31m---------------------------------------------------------------------------\u001b[0m",
      "\u001b[0;31mNameError\u001b[0m                                 Traceback (most recent call last)",
      "\u001b[0;32m<ipython-input-1-c5effdfc7365>\u001b[0m in \u001b[0;36m<module>\u001b[0;34m()\u001b[0m\n\u001b[0;32m----> 1\u001b[0;31m \u001b[0msess\u001b[0m \u001b[0;34m=\u001b[0m \u001b[0mtf\u001b[0m\u001b[0;34m.\u001b[0m\u001b[0mInteractiveSession\u001b[0m\u001b[0;34m(\u001b[0m\u001b[0;34m)\u001b[0m\u001b[0;34m\u001b[0m\u001b[0m\n\u001b[0m\u001b[1;32m      2\u001b[0m \u001b[0msaver\u001b[0m \u001b[0;34m=\u001b[0m \u001b[0mtf\u001b[0m\u001b[0;34m.\u001b[0m\u001b[0mtrain\u001b[0m\u001b[0;34m.\u001b[0m\u001b[0mSaver\u001b[0m\u001b[0;34m(\u001b[0m\u001b[0;34m)\u001b[0m\u001b[0;34m\u001b[0m\u001b[0m\n\u001b[1;32m      3\u001b[0m \u001b[0msess\u001b[0m\u001b[0;34m.\u001b[0m\u001b[0mrun\u001b[0m\u001b[0;34m(\u001b[0m\u001b[0mtf\u001b[0m\u001b[0;34m.\u001b[0m\u001b[0mglobal_variables_initializer\u001b[0m\u001b[0;34m(\u001b[0m\u001b[0;34m)\u001b[0m\u001b[0;34m)\u001b[0m\u001b[0;34m\u001b[0m\u001b[0m\n\u001b[1;32m      4\u001b[0m \u001b[0;34m\u001b[0m\u001b[0m\n\u001b[1;32m      5\u001b[0m \u001b[0mwriter\u001b[0m \u001b[0;34m=\u001b[0m \u001b[0mtf\u001b[0m\u001b[0;34m.\u001b[0m\u001b[0msummary\u001b[0m\u001b[0;34m.\u001b[0m\u001b[0mFileWriter\u001b[0m\u001b[0;34m(\u001b[0m\u001b[0mlogdir\u001b[0m\u001b[0;34m,\u001b[0m \u001b[0msess\u001b[0m\u001b[0;34m.\u001b[0m\u001b[0mgraph\u001b[0m\u001b[0;34m)\u001b[0m\u001b[0;34m\u001b[0m\u001b[0m\n",
      "\u001b[0;31mNameError\u001b[0m: name 'tf' is not defined"
     ]
    }
   ],
   "source": [
    "sess = tf.InteractiveSession()\n",
    "saver = tf.train.Saver()\n",
    "sess.run(tf.global_variables_initializer())\n",
    "\n",
    "writer = tf.summary.FileWriter(logdir, sess.graph)\n",
    "\n",
    "# nuestros placeholder no tiene definido el batch_size, aqui indicamos con\n",
    "#cuantos reviews trabajaremos\n",
    "# nuestro getTrai_Batch trabaja con 32 reviews\n",
    "\n",
    "#inh_f = np.zeros([BATCH_SIZE,CELL_SIZE])\n",
    "#inh_b = np.zeros([BATCH_SIZE,CELL_SIZE])\n",
    "#inh_f_v = np.zeros([128, CELL_SIZE])\n",
    "#inh_b_v = np.zeros([128, CELL_SIZE])\n",
    "\n",
    "i = 0\n",
    "for epoch in range(50):    # NUM_EPOCHS\n",
    "    for _ in range(int(TRAIN_SIZE/BATCH_SIZE)): # TRAIN_SIZE / BATCH_SIZE = steps for 1 epoch\n",
    "       #Next Batch of reviews\n",
    "        nextBatch, nextBatchLabels = getTrainBatch();\n",
    "        sess.run(optimizer, {input_data: nextBatch, labels: nextBatchLabels})\n",
    "                            #hin_f: inh_f, hin_b: inh_b})\n",
    "   \n",
    "        #Write summary to Tensorboard\n",
    "        if (i % 50 == 0):\n",
    "            summary = sess.run(merged, {input_data: nextBatch, labels: nextBatchLabels})\n",
    "                                       #hin_f: inh_f, hin_b: inh_b})\n",
    "            writer.add_summary(summary, i)\n",
    "            a ,b = getTestBatch(128)\n",
    "            summary2 = sess.run(validation_summ, {input_data: a, labels: b})\n",
    "                                   #hin_f: inh_f_v, hin_b: inh_b_v})\n",
    "            writer.add_summary(summary2, i)\n",
    "\n",
    "        #Save the network every 10,000 training iterations\n",
    "        if (i % 1000 == 0 and i != 0):\n",
    "            save_path = saver.save(sess, \"models/model_GRU_Attention.ckpt\", global_step=i)\n",
    "            print(\"saved to %s\" % save_path)\n",
    "            \n",
    "        i += 1\n",
    "    print(\"epoch\", epoch)\n",
    "writer.close()"
   ]
  },
  {
   "cell_type": "code",
   "execution_count": null,
   "metadata": {
    "collapsed": true
   },
   "outputs": [],
   "source": []
  },
  {
   "cell_type": "code",
   "execution_count": null,
   "metadata": {
    "collapsed": true
   },
   "outputs": [],
   "source": [
    "# cargamos un modelo ya pre-entrenado\n",
    "sess = tf.InteractiveSession()\n",
    "saver = tf.train.Saver()\n",
    "saver.restore(sess, tf.train.latest_checkpoint('models'))"
   ]
  },
  {
   "cell_type": "code",
   "execution_count": 103,
   "metadata": {},
   "outputs": [
    {
     "name": "stdout",
     "output_type": "stream",
     "text": [
      "91.07999801635742\n"
     ]
    }
   ],
   "source": [
    "# probando la red con 5000 ejemplos \n",
    "a0, b0 =getTestBatch(TEST_SIZE)\n",
    "p = sess.run(accuracy, {input_data: a0, labels: b0})\n",
    "print (p*100)"
   ]
  },
  {
   "cell_type": "code",
   "execution_count": 11,
   "metadata": {
    "collapsed": true
   },
   "outputs": [],
   "source": []
  },
  {
   "cell_type": "code",
   "execution_count": null,
   "metadata": {
    "collapsed": true
   },
   "outputs": [],
   "source": [
    "# probar con ejemplos del TASS"
   ]
  },
  {
   "cell_type": "code",
   "execution_count": 12,
   "metadata": {
    "collapsed": true
   },
   "outputs": [],
   "source": [
    "def filter_text(text):\n",
    "    text = re.sub('<[^>]*>', '', text)\n",
    "    emoticons = re.findall('(?::|;|=)(?:-)?(?:\\)|\\(|D|P)', text.lower())\n",
    "    text = re.sub('[\\W]+', ' ', text.lower()) + ' '.join(emoticons).replace('-', '')\n",
    "    return text"
   ]
  },
  {
   "cell_type": "code",
   "execution_count": 13,
   "metadata": {
    "collapsed": true
   },
   "outputs": [],
   "source": [
    "# reviews es una lista de reviews y polarities una lista de int\n",
    "def get_format_data(reviews, polarities):\n",
    "    arr = np.zeros((len(polarities), SEQ_LEN),dtype='uint32')\n",
    "    arr_labels = []\n",
    "    for r,review in enumerate(reviews):\n",
    "        review = filter_text(unidecode.unidecode(review))\n",
    "        review = review.split()\n",
    "        for w, word in enumerate(review):\n",
    "            if w >= SEQ_LEN: break\n",
    "            try:\n",
    "                arr[r][w] = wordsList.index(word)\n",
    "            except ValueError:\n",
    "                arr[r][w] = 399999\n",
    "    for l in polarities:\n",
    "        if l == 0: arr_labels.append([1,0,0])\n",
    "        if l == 1: arr_labels.append([0,1,0])\n",
    "        if l == 2: arr_labels.append([0,0,1])\n",
    "    return arr, arr_labels"
   ]
  },
  {
   "cell_type": "code",
   "execution_count": 14,
   "metadata": {},
   "outputs": [
    {
     "name": "stdout",
     "output_type": "stream",
     "text": [
      "1899\n"
     ]
    }
   ],
   "source": [
    "filename1 = 'test/intertass-test-2017.csv'\n",
    "text1 = codecs.open(filename1, encoding='utf-8')\n",
    "next(text1)\n",
    "\n",
    "sentences1 = []\n",
    "polarity1 = []\n",
    "\n",
    "i = 0\n",
    "for line in text1:\n",
    "    lista = line.split(',') # asumimos que el review no contiene comas \n",
    "    w = str(lista[1]).split('\\n')[0]\n",
    "    if w == 'NONE' or w == 'NEU': polarity1.append(2) # neutro\n",
    "    if w == 'P': polarity1.append(1) # positive\n",
    "    if w == 'N': polarity1.append(0)   # negative\n",
    "    sentence = lista[0]\n",
    "    #sentence = filter_text(unidecode.unidecode(sentence))\n",
    "    sentences1.append(sentence)\n",
    "    i += 1\n",
    "print i\n",
    "\n",
    "NUM_EJEM_1 = len(sentences1)"
   ]
  },
  {
   "cell_type": "code",
   "execution_count": 15,
   "metadata": {
    "collapsed": true
   },
   "outputs": [],
   "source": [
    "# tenemos que convertir los reviews a una matriz con idexs y los labels a one hot encoding"
   ]
  },
  {
   "cell_type": "code",
   "execution_count": 16,
   "metadata": {
    "collapsed": true
   },
   "outputs": [],
   "source": [
    "a, b = get_format_data(sentences1, polarity1)"
   ]
  },
  {
   "cell_type": "code",
   "execution_count": 17,
   "metadata": {},
   "outputs": [
    {
     "name": "stdout",
     "output_type": "stream",
     "text": [
      "72.30120897293091\n"
     ]
    }
   ],
   "source": [
    "p = sess.run(accuracy, {input_data: a, labels: b})\n",
    "print (p*100)"
   ]
  },
  {
   "cell_type": "code",
   "execution_count": 105,
   "metadata": {},
   "outputs": [
    {
     "data": {
      "text/plain": [
       "array([399999,    110,  13045, 201534,     58,    147,     14,     61,\n",
       "           81,     33, 201534,   5942,    117,      7,  17448,      0,\n",
       "            0,      0,      0,      0,      0,      0,      0,      0,\n",
       "            0,      0,      0,      0,      0,      0,      0,      0,\n",
       "            0,      0,      0,      0,      0,      0,      0,      0,\n",
       "            0,      0,      0,      0,      0,      0,      0,      0,\n",
       "            0,      0,      0,      0,      0,      0,      0,      0,\n",
       "            0,      0,      0,      0,      0,      0,      0,      0,\n",
       "            0,      0,      0,      0,      0,      0,      0,      0,\n",
       "            0,      0,      0,      0,      0,      0,      0,      0,\n",
       "            0,      0,      0,      0,      0,      0,      0,      0,\n",
       "            0,      0,      0,      0,      0,      0,      0,      0,\n",
       "            0,      0,      0,      0,      0,      0,      0,      0,\n",
       "            0,      0,      0,      0,      0,      0,      0,      0,\n",
       "            0,      0,      0,      0,      0,      0,      0,      0,\n",
       "            0,      0,      0,      0,      0,      0,      0,      0,\n",
       "            0,      0,      0,      0,      0,      0,      0,      0,\n",
       "            0,      0,      0,      0,      0,      0,      0,      0,\n",
       "            0,      0,      0,      0,      0,      0,      0,      0,\n",
       "            0,      0,      0,      0,      0,      0,      0,      0,\n",
       "            0,      0,      0,      0,      0,      0,      0,      0,\n",
       "            0,      0,      0,      0,      0,      0,      0,      0,\n",
       "            0,      0,      0,      0,      0,      0,      0,      0,\n",
       "            0,      0,      0,      0,      0,      0,      0,      0,\n",
       "            0,      0,      0,      0,      0,      0,      0,      0,\n",
       "            0,      0,      0,      0,      0,      0,      0,      0,\n",
       "            0,      0,      0,      0,      0,      0,      0,      0,\n",
       "            0,      0,      0,      0,      0,      0,      0,      0,\n",
       "            0,      0,      0,      0,      0,      0,      0,      0,\n",
       "            0,      0,      0,      0,      0,      0,      0,      0,\n",
       "            0,      0,      0,      0,      0,      0,      0,      0,\n",
       "            0,      0], dtype=uint32)"
      ]
     },
     "execution_count": 105,
     "metadata": {},
     "output_type": "execute_result"
    }
   ],
   "source": [
    "a[0]"
   ]
  },
  {
   "cell_type": "code",
   "execution_count": null,
   "metadata": {
    "collapsed": true
   },
   "outputs": [],
   "source": []
  },
  {
   "cell_type": "code",
   "execution_count": null,
   "metadata": {
    "collapsed": true
   },
   "outputs": [],
   "source": []
  },
  {
   "cell_type": "code",
   "execution_count": null,
   "metadata": {
    "collapsed": true
   },
   "outputs": [],
   "source": []
  },
  {
   "cell_type": "code",
   "execution_count": null,
   "metadata": {
    "collapsed": true
   },
   "outputs": [],
   "source": []
  },
  {
   "cell_type": "code",
   "execution_count": null,
   "metadata": {
    "collapsed": true
   },
   "outputs": [],
   "source": []
  }
 ],
 "metadata": {
  "kernelspec": {
   "display_name": "Python 2",
   "language": "python",
   "name": "python2"
  },
  "language_info": {
   "codemirror_mode": {
    "name": "ipython",
    "version": 2
   },
   "file_extension": ".py",
   "mimetype": "text/x-python",
   "name": "python",
   "nbconvert_exporter": "python",
   "pygments_lexer": "ipython2",
   "version": "2.7.12"
  }
 },
 "nbformat": 4,
 "nbformat_minor": 2
}
